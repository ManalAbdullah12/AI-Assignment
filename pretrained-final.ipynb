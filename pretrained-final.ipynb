{
 "cells": [
  {
   "cell_type": "code",
   "execution_count": 1,
   "id": "85bcd9d2",
   "metadata": {},
   "outputs": [
    {
     "name": "stderr",
     "output_type": "stream",
     "text": [
      "2024-05-23 19:15:30.558139: I tensorflow/core/platform/cpu_feature_guard.cc:182] This TensorFlow binary is optimized to use available CPU instructions in performance-critical operations.\n",
      "To enable the following instructions: AVX2 FMA, in other operations, rebuild TensorFlow with the appropriate compiler flags.\n"
     ]
    }
   ],
   "source": [
    "import tensorflow as tf\n",
    "from tensorflow import keras\n",
    "from keras import Sequential\n",
    "from keras.layers import Dense,Conv2D,MaxPooling2D,Flatten,BatchNormalization,Dropout\n",
    "import zipfile\n",
    "import os\n",
    "import matplotlib.pyplot as plt"
   ]
  },
  {
   "cell_type": "code",
   "execution_count": 2,
   "id": "d7e9e651",
   "metadata": {},
   "outputs": [],
   "source": [
    "# Define paths to the dataset. train to train the CNN and test\n",
    "train_dir = \"/Users/manalalnamani/Desktop/FaceClassification/train\"\n",
    "test_dir = \"/Users/manalalnamani/Desktop/FaceClassification/test\"  "
   ]
  },
  {
   "cell_type": "code",
   "execution_count": 3,
   "id": "a1d70806",
   "metadata": {},
   "outputs": [
    {
     "name": "stdout",
     "output_type": "stream",
     "text": [
      "82\n",
      "66\n",
      "10\n",
      "8\n"
     ]
    }
   ],
   "source": [
    "#The nuymber of images in each path (train and test for happy & sad images)\n",
    "print(len(os.listdir('/Users/manalalnamani/Desktop/FaceClassification/train/happy')))\n",
    "print(len(os.listdir('/Users/manalalnamani/Desktop/FaceClassification/train/sad')))\n",
    "print(len(os.listdir('/Users/manalalnamani/Desktop/FaceClassification/test/happy')))\n",
    "print(len(os.listdir('/Users/manalalnamani/Desktop/FaceClassification/test/sad')))"
   ]
  },
  {
   "cell_type": "code",
   "execution_count": 4,
   "id": "17cf7fc6",
   "metadata": {},
   "outputs": [
    {
     "name": "stdout",
     "output_type": "stream",
     "text": [
      "Found 145 images belonging to 2 classes.\n",
      "Found 17 images belonging to 2 classes.\n"
     ]
    }
   ],
   "source": [
    "from tensorflow.keras.preprocessing.image import ImageDataGenerator #used for processing images during\n",
    "# Create ImageDataGenerator for training set\n",
    "train_datagen = ImageDataGenerator(\n",
    "    rescale=1./255, #makesthe pixel values of the images to a range between 0 and 1\n",
    ")\n",
    "# Load and prepare training data\n",
    "train_data = train_datagen.flow_from_directory(\n",
    "    train_dir,\n",
    "    target_size=(256,256),   # re-sizing the images\n",
    "    batch_size=32,           # 32 image batch during training the model\n",
    "    class_mode='binary',     #'binary' for binary classification (happy vs. sad)\n",
    "    subset='training'        #Specify 'training' for the training set\n",
    ")\n",
    "\n",
    "# Create ImageDataGenerator for validation set\n",
    "validation_datagen = ImageDataGenerator(\n",
    "    rescale=1./255,       #makesthe pixel values of the images to a range between 0 and 1\n",
    " # Note: Using the same validation split as in the training set\n",
    ")\n",
    "# Load and prepare validation data\n",
    "validation_data = validation_datagen.flow_from_directory(\n",
    "    test_dir,\n",
    "    target_size=(256, 256),  # Resize images to 256x256 pixels\n",
    "    batch_size=32,           # Use a batch size of 32 images\n",
    "    class_mode='binary'      # Specify binary classification (happy vs. sad)\n",
    ")\n"
   ]
  },
  {
   "cell_type": "code",
   "execution_count": 14,
   "id": "570695b5",
   "metadata": {},
   "outputs": [],
   "source": [
    "\n",
    "#Start Sequential model:\n",
    "resnet_model = Sequential()    #ResNet50 is a pre-trained model\n",
    "\n",
    "#calling the res-net50 model\n",
    "pretrained_model = tf.keras.applications.ResNet50(include_top = False, #because i have my own image of a diff dimension\n",
    "                                                input_shape = (256,256,3), #shape of input images\n",
    "                                                pooling = 'max', classes = 2, #binary classification\n",
    "                                              weights = 'imagenet')\n",
    "#looping throigh the layers of Res-Net50\n",
    "for layer in pretrained_model.layers:\n",
    "    layer.trainable = False  #all layers in the Resnet50 is not trainable; keep those weights;\n",
    "\n",
    "#adding the model layer (only one layer)\n",
    "resnet_model.add(pretrained_model)\n",
    "# make it one-dimensional\n",
    "resnet_model.add(Flatten())\n",
    "#creating the fully connected layer\n",
    "resnet_model.add(Dense(512, activation = 'relu'))\n",
    "resnet_model.add(Dropout(0.15))\n",
    "#output layer\n",
    "resnet_model.add(Dense(1, activation = 'sigmoid'))"
   ]
  },
  {
   "cell_type": "code",
   "execution_count": 15,
   "id": "828e40c4",
   "metadata": {},
   "outputs": [],
   "source": [
    "from keras.optimizers import Adam\n",
    "resnet_model.compile(optimizer=Adam(learning_rate=0.001),loss='binary_crossentropy',metrics=['accuracy'])"
   ]
  },
  {
   "cell_type": "code",
   "execution_count": 16,
   "id": "2837d3ed",
   "metadata": {},
   "outputs": [
    {
     "name": "stdout",
     "output_type": "stream",
     "text": [
      "Epoch 1/5\n"
     ]
    },
    {
     "name": "stderr",
     "output_type": "stream",
     "text": [
      "2024-05-23 19:29:01.697693: I tensorflow/core/common_runtime/executor.cc:1197] [/device:CPU:0] (DEBUG INFO) Executor start aborting (this does not indicate an error and you can ignore this message): INVALID_ARGUMENT: You must feed a value for placeholder tensor 'Placeholder/_0' with dtype int32\n",
      "\t [[{{node Placeholder/_0}}]]\n"
     ]
    },
    {
     "name": "stdout",
     "output_type": "stream",
     "text": [
      "5/5 [==============================] - ETA: 0s - loss: 6.0901 - accuracy: 0.4828"
     ]
    },
    {
     "name": "stderr",
     "output_type": "stream",
     "text": [
      "2024-05-23 19:29:29.997190: I tensorflow/core/common_runtime/executor.cc:1197] [/device:CPU:0] (DEBUG INFO) Executor start aborting (this does not indicate an error and you can ignore this message): INVALID_ARGUMENT: You must feed a value for placeholder tensor 'Placeholder/_0' with dtype int32\n",
      "\t [[{{node Placeholder/_0}}]]\n"
     ]
    },
    {
     "name": "stdout",
     "output_type": "stream",
     "text": [
      "5/5 [==============================] - 33s 6s/step - loss: 6.0901 - accuracy: 0.4828 - val_loss: 3.4104 - val_accuracy: 0.4706\n",
      "Epoch 2/5\n",
      "5/5 [==============================] - 29s 7s/step - loss: 3.2639 - accuracy: 0.5310 - val_loss: 1.2791 - val_accuracy: 0.5882\n",
      "Epoch 3/5\n",
      "5/5 [==============================] - 45s 10s/step - loss: 1.6587 - accuracy: 0.5862 - val_loss: 1.2218 - val_accuracy: 0.4706\n",
      "Epoch 4/5\n",
      "5/5 [==============================] - 49s 10s/step - loss: 1.0541 - accuracy: 0.5931 - val_loss: 0.9117 - val_accuracy: 0.5882\n",
      "Epoch 5/5\n",
      "5/5 [==============================] - 47s 9s/step - loss: 1.1419 - accuracy: 0.5517 - val_loss: 1.2718 - val_accuracy: 0.4706\n"
     ]
    }
   ],
   "source": [
    "history = resnet_model.fit(train_data, epochs=5, validation_data=validation_data)"
   ]
  },
  {
   "cell_type": "code",
   "execution_count": 17,
   "id": "058124d4",
   "metadata": {
    "scrolled": false
   },
   "outputs": [
    {
     "data": {
      "image/png": "[encoded data removed]",
      "text/plain": [
       "<Figure size 432x288 with 1 Axes>"
      ]
     },
     "metadata": {
      "needs_background": "light"
     },
     "output_type": "display_data"
    }
   ],
   "source": [
    "plt.plot(history.history['accuracy'],color='red',label='train')\n",
    "plt.plot(history.history['val_accuracy'],color='blue',label='validation')\n",
    "plt.legend()\n",
    "plt.show()"
   ]
  },
  {
   "cell_type": "code",
   "execution_count": 18,
   "id": "1ab88e23",
   "metadata": {
    "scrolled": false
   },
   "outputs": [
    {
     "data": {
      "image/png": "[encoded data removed]",
      "text/plain": [
       "<Figure size 432x288 with 1 Axes>"
      ]
     },
     "metadata": {
      "needs_background": "light"
     },
     "output_type": "display_data"
    }
   ],
   "source": [
    "plt.plot(history.history['loss'],color='red',label='train')\n",
    "plt.plot(history.history['val_loss'],color='blue',label='validation')\n",
    "plt.legend()\n",
    "plt.show()"
   ]
  },
  {
   "cell_type": "code",
   "execution_count": 19,
   "id": "747d854c",
   "metadata": {},
   "outputs": [
    {
     "name": "stdout",
     "output_type": "stream",
     "text": [
      "Found 17 images belonging to 2 classes.\n"
     ]
    }
   ],
   "source": [
    "test_datagen = ImageDataGenerator(rescale=1./255)\n",
    "test_data = test_datagen.flow_from_directory(\n",
    "    test_dir,\n",
    "    target_size=(256,256),\n",
    "    batch_size=32,\n",
    "    class_mode='binary'\n",
    ")"
   ]
  },
  {
   "cell_type": "code",
   "execution_count": 20,
   "id": "e661fa8d",
   "metadata": {},
   "outputs": [
    {
     "name": "stderr",
     "output_type": "stream",
     "text": [
      "2024-05-23 19:33:25.157436: I tensorflow/core/common_runtime/executor.cc:1197] [/device:CPU:0] (DEBUG INFO) Executor start aborting (this does not indicate an error and you can ignore this message): INVALID_ARGUMENT: You must feed a value for placeholder tensor 'Placeholder/_0' with dtype int32\n",
      "\t [[{{node Placeholder/_0}}]]\n"
     ]
    },
    {
     "name": "stdout",
     "output_type": "stream",
     "text": [
      "1/1 [==============================] - 8s 8s/step\n",
      "[[0.94230264]\n",
      " [0.83928037]\n",
      " [0.92429686]\n",
      " [0.7075054 ]\n",
      " [0.8103759 ]\n",
      " [0.8974187 ]\n",
      " [0.13363762]\n",
      " [0.9521903 ]\n",
      " [0.8892148 ]\n",
      " [0.9344353 ]\n",
      " [0.75881606]\n",
      " [0.7980399 ]\n",
      " [0.78918785]\n",
      " [0.8412022 ]\n",
      " [0.9496423 ]\n",
      " [0.91130453]\n",
      " [0.93751323]]\n"
     ]
    }
   ],
   "source": [
    "#predict the test data\n",
    "predictions = resnet_model.predict(test_data)\n",
    "print(predictions)"
   ]
  },
  {
   "cell_type": "code",
   "execution_count": 21,
   "id": "69c70bec",
   "metadata": {},
   "outputs": [
    {
     "data": {
      "text/plain": [
       "17"
      ]
     },
     "execution_count": 21,
     "metadata": {},
     "output_type": "execute_result"
    }
   ],
   "source": [
    "len(predictions)"
   ]
  },
  {
   "cell_type": "code",
   "execution_count": 22,
   "id": "59e34f19",
   "metadata": {},
   "outputs": [
    {
     "name": "stdout",
     "output_type": "stream",
     "text": [
      "Confusion Matrix:\n",
      "[[1 9]\n",
      " [0 7]]\n",
      "Classification Report:\n",
      "              precision    recall  f1-score   support\n",
      "\n",
      "           0       1.00      0.10      0.18        10\n",
      "           1       0.44      1.00      0.61         7\n",
      "\n",
      "    accuracy                           0.47        17\n",
      "   macro avg       0.72      0.55      0.40        17\n",
      "weighted avg       0.77      0.47      0.36        17\n",
      "\n"
     ]
    }
   ],
   "source": [
    "from sklearn.metrics import confusion_matrix, classification_report\n",
    "\n",
    "# Assuming you have ground truth labels (true_labels) and predicted labels (predictions)\n",
    "true_labels = test_data.classes\n",
    "predicted_labels = (predictions > 0.5).astype(int)  # Adjust the threshold as needed\n",
    "\n",
    "# Calculate confusion matrix\n",
    "cm = confusion_matrix(true_labels, predicted_labels)\n",
    "\n",
    "# Print confusion matrix\n",
    "print(\"Confusion Matrix:\")\n",
    "print(cm)\n",
    "\n",
    "# Print classification report\n",
    "print(\"Classification Report:\")\n",
    "print(classification_report(true_labels, predicted_labels))"
   ]
  },
  {
   "cell_type": "code",
   "execution_count": null,
   "id": "d4b6287b",
   "metadata": {},
   "outputs": [],
   "source": []
  }
 ],
 "metadata": {
  "kernelspec": {
   "display_name": "Python 3 (ipykernel)",
   "language": "python",
   "name": "python3"
  },
  "language_info": {
   "codemirror_mode": {
    "name": "ipython",
    "version": 3
   },
   "file_extension": ".py",
   "mimetype": "text/x-python",
   "name": "python",
   "nbconvert_exporter": "python",
   "pygments_lexer": "ipython3",
   "version": "3.9.7"
  }
 },
 "nbformat": 4,
 "nbformat_minor": 5
}
